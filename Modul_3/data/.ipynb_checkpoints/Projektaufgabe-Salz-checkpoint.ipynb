{
 "cells": [
  {
   "cell_type": "markdown",
   "id": "99caf6dc",
   "metadata": {},
   "source": [
    "# Wie viele Senioren und Kinder sind Kunden der SFP Library?"
   ]
  },
  {
   "cell_type": "code",
   "execution_count": 9,
   "id": "eb0e43e0",
   "metadata": {},
   "outputs": [
    {
     "data": {
      "text/plain": [
       "25 to 34 years       91083\n",
       "35 to 44 years       67390\n",
       "10 to 19 years       58944\n",
       "45 to 54 years       52492\n",
       "0 to 9 years         38242\n",
       "65 to 74 years       30141\n",
       "20 to 24 years       29761\n",
       "55 to 59 years       21230\n",
       "60 to 64 years       19800\n",
       "75 years and over    14150\n",
       "Name: Age Range, dtype: int64"
      ]
     },
     "execution_count": 9,
     "metadata": {},
     "output_type": "execute_result"
    }
   ],
   "source": [
    "# Age Range -> Problem was zählt alles zu Kinder entweder nur 0-9 oder auch 10-15, die sind aber in der Gruppe 10-19.\n",
    "import pandas as pd\n",
    "df=pd.read_csv(\"../data/Library_Usage.csv\")\n",
    "df['Age Range'].value_counts()\n",
    "# 0 to 9 years         38.242 \n",
    "# 10 to 19 years       58.944\n",
    "# Absolute Häufigkeiten Kinder & Teenager uusammen : 97.186 Kinder\n",
    "# 65 to 74 years 30.141\n",
    "# 75 years and over 14.150"
   ]
  },
  {
   "cell_type": "code",
   "execution_count": 10,
   "id": "ffee1561",
   "metadata": {
    "scrolled": true
   },
   "outputs": [
    {
     "data": {
      "text/plain": [
       "38242"
      ]
     },
     "execution_count": 10,
     "metadata": {},
     "output_type": "execute_result"
    }
   ],
   "source": [
    "# Häufigkeiten 0-9 Jahre = 38.242 Kinder\n",
    "import pandas as pd\n",
    "df=pd.read_csv(\"../data/Library_Usage.csv\")\n",
    "(df['Age Range'] == '0 to 9 years').sum()"
   ]
  },
  {
   "cell_type": "code",
   "execution_count": 11,
   "id": "86a92fd9",
   "metadata": {},
   "outputs": [
    {
     "data": {
      "text/plain": [
       "0      272251\n",
       "1       59208\n",
       "3       41619\n",
       "2       28816\n",
       "4       14931\n",
       "15       1782\n",
       "16       1744\n",
       "9         977\n",
       "5         862\n",
       "10        415\n",
       "100       349\n",
       "55        157\n",
       "12         95\n",
       "103        66\n",
       "101        47\n",
       "104        45\n",
       "102        44\n",
       "8          40\n",
       "Name: Patron Type Code, dtype: int64"
      ]
     },
     "execution_count": 11,
     "metadata": {},
     "output_type": "execute_result"
    }
   ],
   "source": [
    "# Patron Type Code nicht ganz klar was was ist daher ggf. ungenau: \n",
    "# denn: 5= Staff, 15 = Teacher, 100 ATUser Adult,10= visitor, 55=retired Staff, 101 AT User juvenile, 4=welcome?)\n",
    "# Teacher sind auch Kunden und erwachsen. Infrage kommen, wenn nur 0 =Adult, 3 =Senior, 1= juvenile, 2 =young adult\n",
    "\n",
    "import pandas as pd\n",
    "df=pd.read_csv(\"../data/Library_Usage.csv\")\n",
    "df['Patron Type Code'].value_counts()\n",
    "# absolute Häufigkeit für Kundengruppen 3= senior= 41.619 ; 1= 5uvenile = 59.208 ; 2 = young adult = 28.816"
   ]
  },
  {
   "cell_type": "code",
   "execution_count": 12,
   "id": "f56c8e81",
   "metadata": {},
   "outputs": [],
   "source": [
    "# alternative Definition Senioren, durch Nutzen der Altersklassen: \n",
    "senioren=df.loc[\n",
    "    (df['Age Range'] == \"65 to 74 years\") | \n",
    "    (df['Age Range'] == \"75 years and over\")\n",
    "] "
   ]
  },
  {
   "cell_type": "code",
   "execution_count": 13,
   "id": "79b2ff2b",
   "metadata": {},
   "outputs": [
    {
     "data": {
      "text/plain": [
       "44291"
      ]
     },
     "execution_count": 13,
     "metadata": {},
     "output_type": "execute_result"
    }
   ],
   "source": [
    "len(senioren)"
   ]
  },
  {
   "cell_type": "code",
   "execution_count": 14,
   "id": "337ca324",
   "metadata": {},
   "outputs": [],
   "source": [
    "# alternative Definition Kinder (inkl Teenager), durch Nutzen der Altersklassen: \n",
    "# stimmt mit Ergebnis aus Zeile \"In [14]\"\" überein\n",
    "kinder=df.loc[\n",
    "    (df['Age Range'] == \"0 to 9 years\") | \n",
    "    (df['Age Range'] == \"10 to 19 years\")\n",
    "] "
   ]
  },
  {
   "cell_type": "code",
   "execution_count": 15,
   "id": "0a2c60bc",
   "metadata": {},
   "outputs": [
    {
     "data": {
      "text/plain": [
       "97186"
      ]
     },
     "execution_count": 15,
     "metadata": {},
     "output_type": "execute_result"
    }
   ],
   "source": [
    "len(kinder)"
   ]
  },
  {
   "cell_type": "markdown",
   "id": "c029341d",
   "metadata": {},
   "source": [
    "# Wie viele Nutzer möchten per Mail informiert werden?"
   ]
  },
  {
   "cell_type": "code",
   "execution_count": 16,
   "id": "e9c30ccf",
   "metadata": {},
   "outputs": [
    {
     "data": {
      "text/plain": [
       "email    323937\n",
       "phone     68172\n",
       "print     31336\n",
       "none          3\n",
       "Name: Notice Preference Definition, dtype: int64"
      ]
     },
     "execution_count": 16,
     "metadata": {},
     "output_type": "execute_result"
    }
   ],
   "source": [
    "# insgesamt möchten 323.937 Personen per Mail informiert werden\n",
    "df['Notice Preference Definition'].value_counts()"
   ]
  },
  {
   "cell_type": "code",
   "execution_count": 17,
   "id": "e80dcdae",
   "metadata": {},
   "outputs": [
    {
     "data": {
      "text/plain": [
       "z    323937\n",
       "p     68172\n",
       "a     31336\n",
       "-         3\n",
       "Name: Notice Preference Code, dtype: int64"
      ]
     },
     "execution_count": 17,
     "metadata": {},
     "output_type": "execute_result"
    }
   ],
   "source": [
    "# ODER: z= email p= phone a= print\n",
    "df['Notice Preference Code'].value_counts()"
   ]
  },
  {
   "cell_type": "markdown",
   "id": "eaa4fc67",
   "metadata": {},
   "source": [
    "# Wie alt sind diese Nutzer durchschnittlich im Vergleich zu Nutzern, die per Post informiert werden möchten?"
   ]
  },
  {
   "cell_type": "markdown",
   "id": "bf4a787d",
   "metadata": {},
   "source": [
    "Ist folgendes mit der Frage gemeint?!: \n",
    "-> 323.937 Personen möchten per Mail informiert werden. \n",
    "    1.Wie alt sind davon die Personen die per Mail informiert werden wollen? \n",
    "    2.Wie ist der Altersdurchschnitt davon?\n",
    "-> 31.336 Personen möchten per Post informiert werden\n",
    "    1.Wie alt sind die Personen die per Mail informiert werden wollen? \n",
    "    2.Wie ist der Altersdurchschnitt davon?\n",
    "\n",
    "\"Notice Preference Definition\" und \"Age Range\" sind beides diskrete Merkmale. \n",
    "\"Age Range\" ist ein ordinales Merkmal  = Abstände nicht interpretierbar, Ausprägungen können geordnet werden\n",
    "\"Notice Preference Definition\" ist ein nominal = nur Häufigkeiten \n",
    "\n"
   ]
  },
  {
   "cell_type": "code",
   "execution_count": 18,
   "id": "7bd5c2af",
   "metadata": {},
   "outputs": [
    {
     "data": {
      "text/html": [
       "<div>\n",
       "<style scoped>\n",
       "    .dataframe tbody tr th:only-of-type {\n",
       "        vertical-align: middle;\n",
       "    }\n",
       "\n",
       "    .dataframe tbody tr th {\n",
       "        vertical-align: top;\n",
       "    }\n",
       "\n",
       "    .dataframe thead th {\n",
       "        text-align: right;\n",
       "    }\n",
       "</style>\n",
       "<table border=\"1\" class=\"dataframe\">\n",
       "  <thead>\n",
       "    <tr style=\"text-align: right;\">\n",
       "      <th>Age Range</th>\n",
       "      <th>0 to 9 years</th>\n",
       "      <th>10 to 19 years</th>\n",
       "      <th>20 to 24 years</th>\n",
       "      <th>25 to 34 years</th>\n",
       "      <th>35 to 44 years</th>\n",
       "      <th>45 to 54 years</th>\n",
       "      <th>55 to 59 years</th>\n",
       "      <th>60 to 64 years</th>\n",
       "      <th>65 to 74 years</th>\n",
       "      <th>75 years and over</th>\n",
       "    </tr>\n",
       "    <tr>\n",
       "      <th>Notice Preference Definition</th>\n",
       "      <th></th>\n",
       "      <th></th>\n",
       "      <th></th>\n",
       "      <th></th>\n",
       "      <th></th>\n",
       "      <th></th>\n",
       "      <th></th>\n",
       "      <th></th>\n",
       "      <th></th>\n",
       "      <th></th>\n",
       "    </tr>\n",
       "  </thead>\n",
       "  <tbody>\n",
       "    <tr>\n",
       "      <th>email</th>\n",
       "      <td>0.084858</td>\n",
       "      <td>0.117534</td>\n",
       "      <td>0.073535</td>\n",
       "      <td>0.245078</td>\n",
       "      <td>0.178202</td>\n",
       "      <td>0.128020</td>\n",
       "      <td>0.047341</td>\n",
       "      <td>0.042637</td>\n",
       "      <td>0.062694</td>\n",
       "      <td>0.020100</td>\n",
       "    </tr>\n",
       "    <tr>\n",
       "      <th>none</th>\n",
       "      <td>0.666667</td>\n",
       "      <td>0.000000</td>\n",
       "      <td>0.333333</td>\n",
       "      <td>0.000000</td>\n",
       "      <td>0.000000</td>\n",
       "      <td>0.000000</td>\n",
       "      <td>0.000000</td>\n",
       "      <td>0.000000</td>\n",
       "      <td>0.000000</td>\n",
       "      <td>0.000000</td>\n",
       "    </tr>\n",
       "    <tr>\n",
       "      <th>phone</th>\n",
       "      <td>0.097305</td>\n",
       "      <td>0.220999</td>\n",
       "      <td>0.056108</td>\n",
       "      <td>0.103249</td>\n",
       "      <td>0.095383</td>\n",
       "      <td>0.113846</td>\n",
       "      <td>0.062625</td>\n",
       "      <td>0.063168</td>\n",
       "      <td>0.104849</td>\n",
       "      <td>0.082467</td>\n",
       "    </tr>\n",
       "    <tr>\n",
       "      <th>print</th>\n",
       "      <td>0.132041</td>\n",
       "      <td>0.186199</td>\n",
       "      <td>0.067952</td>\n",
       "      <td>0.149987</td>\n",
       "      <td>0.101961</td>\n",
       "      <td>0.104898</td>\n",
       "      <td>0.052210</td>\n",
       "      <td>0.053998</td>\n",
       "      <td>0.086154</td>\n",
       "      <td>0.064600</td>\n",
       "    </tr>\n",
       "    <tr>\n",
       "      <th>All</th>\n",
       "      <td>0.090357</td>\n",
       "      <td>0.139271</td>\n",
       "      <td>0.070318</td>\n",
       "      <td>0.215208</td>\n",
       "      <td>0.159227</td>\n",
       "      <td>0.124026</td>\n",
       "      <td>0.050161</td>\n",
       "      <td>0.046783</td>\n",
       "      <td>0.071216</td>\n",
       "      <td>0.033433</td>\n",
       "    </tr>\n",
       "  </tbody>\n",
       "</table>\n",
       "</div>"
      ],
      "text/plain": [
       "Age Range                     0 to 9 years  10 to 19 years  20 to 24 years  \\\n",
       "Notice Preference Definition                                                 \n",
       "email                             0.084858        0.117534        0.073535   \n",
       "none                              0.666667        0.000000        0.333333   \n",
       "phone                             0.097305        0.220999        0.056108   \n",
       "print                             0.132041        0.186199        0.067952   \n",
       "All                               0.090357        0.139271        0.070318   \n",
       "\n",
       "Age Range                     25 to 34 years  35 to 44 years  45 to 54 years  \\\n",
       "Notice Preference Definition                                                   \n",
       "email                               0.245078        0.178202        0.128020   \n",
       "none                                0.000000        0.000000        0.000000   \n",
       "phone                               0.103249        0.095383        0.113846   \n",
       "print                               0.149987        0.101961        0.104898   \n",
       "All                                 0.215208        0.159227        0.124026   \n",
       "\n",
       "Age Range                     55 to 59 years  60 to 64 years  65 to 74 years  \\\n",
       "Notice Preference Definition                                                   \n",
       "email                               0.047341        0.042637        0.062694   \n",
       "none                                0.000000        0.000000        0.000000   \n",
       "phone                               0.062625        0.063168        0.104849   \n",
       "print                               0.052210        0.053998        0.086154   \n",
       "All                                 0.050161        0.046783        0.071216   \n",
       "\n",
       "Age Range                     75 years and over  \n",
       "Notice Preference Definition                     \n",
       "email                                  0.020100  \n",
       "none                                   0.000000  \n",
       "phone                                  0.082467  \n",
       "print                                  0.064600  \n",
       "All                                    0.033433  "
      ]
     },
     "execution_count": 18,
     "metadata": {},
     "output_type": "execute_result"
    }
   ],
   "source": [
    "# Kreuztabelle zeigt welches Alter Emails möchte und welches Post (print)\n",
    "# leere Felder werden nicht berücksichtigt, da im Feld ein Eintrag als True gegeben sein muss.stehen unter none?\n",
    "pd.crosstab(\n",
    "    df['Notice Preference Definition'],\n",
    "    df['Age Range'],\n",
    "     margins=True, normalize=0\n",
    ")"
   ]
  },
  {
   "cell_type": "code",
   "execution_count": 19,
   "id": "0e0b0570",
   "metadata": {},
   "outputs": [],
   "source": [
    "# 24% der Personen der Altersgruppe 25-34 bevorzugen Mails, ist das dann nicht das durchschnittliche Alter?!\n",
    "# 18% der Personen der Altergruppe 10-19 bevorzugen Post\n",
    "# Frage: Angeblich kann man ordinal skaliert auch den Median festlegen\n",
    "# Kann man somit auch die Häufigkeiten bei Mail in eine aufsteigende Reihenfolge bringen und den Median festlegen bei 23.809 (20-24)\n",
    "# ?? Was sagt das aus?!"
   ]
  },
  {
   "cell_type": "markdown",
   "id": "ee6ae78d",
   "metadata": {},
   "source": [
    "[AL] Deine Interpretation der Kreuztabelle ist nicht ganz richtig. \n",
    "Es sind nicht 24% der Altersgruppe 25-34, die Mailbenachrichtigung präferieren. Sonderen von allen Personen, die eine Benachrichtigung per Mail wünschen, sind 24% in der Altersgruppe 25-34 Jahre.\n",
    "Zu Deiner Frage. Man kann bei ordinal skalierten Daten einen Median festlegen. Das wäre dann aber der Median über 'Age Range', nicht über 'Age Range' == 20 to 24 years. Dafür müsstest Du die Merkmale '20 to 24 years', '10 to 19 years' etc. in Zahlenwerte kodieren und würdest dann einen Wert \"in der Mitte\" erhalten. Der sagt aber nicht besonders viel aus..."
   ]
  },
  {
   "cell_type": "code",
   "execution_count": 20,
   "id": "69dc647f",
   "metadata": {},
   "outputs": [],
   "source": [
    "# Frage: Sagt der folgende Code aus : Datensätze, die die Bedingung Email und Altersgruppe 25-34 haben: 335.669 Personen?\n",
    "Nutzer=df.loc[\n",
    "    (df['Notice Preference Definition'] == \"email\")| \n",
    "    (df['Age Range'] == \"25 to 34 years\")\n",
    "] "
   ]
  },
  {
   "cell_type": "markdown",
   "id": "b9cd4966",
   "metadata": {},
   "source": [
    "[AL] Nein. Hier berechnest Du alle Datensätze, wo entweder Email oder Altersgruppe 25-34 erfüllt ist. D.h. es können auch Nutzer sein, die bspw. die Kombi 25-34 und print haben."
   ]
  },
  {
   "cell_type": "code",
   "execution_count": 21,
   "id": "de9de41d",
   "metadata": {},
   "outputs": [
    {
     "data": {
      "text/plain": [
       "335669"
      ]
     },
     "execution_count": 21,
     "metadata": {},
     "output_type": "execute_result"
    }
   ],
   "source": [
    "len(Nutzer)"
   ]
  },
  {
   "cell_type": "code",
   "execution_count": 22,
   "id": "6261e468",
   "metadata": {},
   "outputs": [],
   "source": [
    "# Frage: was sagt das aus, oder geht das nicht weil eins nominal das andere ordinal?!\n",
    "Nutzer=df.loc[\n",
    "    (df['Notice Preference Definition'] == \"print\")|\n",
    "    (df['Age Range'] == \"25 to 34 years\")\n",
    "] "
   ]
  },
  {
   "cell_type": "markdown",
   "id": "3c2c3913",
   "metadata": {},
   "source": [
    "[AL] s. vorh. Kommentar. Du schränkst hier Deinen Datensatz auf die Einträge ein, wo ein Nutzer eine Print-Benachrichtigung erhalten möchte ODER er 25-34 Jahre alt ist."
   ]
  },
  {
   "cell_type": "code",
   "execution_count": 23,
   "id": "199e4306",
   "metadata": {},
   "outputs": [
    {
     "data": {
      "text/plain": [
       "117722"
      ]
     },
     "execution_count": 23,
     "metadata": {},
     "output_type": "execute_result"
    }
   ],
   "source": [
    "len(Nutzer)"
   ]
  },
  {
   "cell_type": "code",
   "execution_count": 24,
   "id": "bd021379",
   "metadata": {},
   "outputs": [],
   "source": [
    "import pandas as pd\n",
    "import matplotlib.pyplot as plt\n",
    "import seaborn as sns\n",
    "import numpy as np\n",
    "%matplotlib inline\n",
    "sns.set()"
   ]
  },
  {
   "cell_type": "code",
   "execution_count": 25,
   "id": "4ee17217",
   "metadata": {
    "scrolled": true
   },
   "outputs": [
    {
     "data": {
      "text/plain": [
       "<seaborn.axisgrid.FacetGrid at 0x7feb13c40070>"
      ]
     },
     "execution_count": 25,
     "metadata": {},
     "output_type": "execute_result"
    },
    {
     "data": {
      "image/png": "[encoded data removed]",
      "text/plain": [
       "<Figure size 1238.3x360 with 1 Axes>"
      ]
     },
     "metadata": {},
     "output_type": "display_data"
    }
   ],
   "source": [
    "sns.catplot(x='Age Range', kind='count', hue='Notice Preference Definition', data=df, aspect=3, order=[\"0 to 9 years\",\"10 to 19 years\",\"20 to 24 years\",\"25 to 34 years\",\"35 to 44 years\",\"45 to 54 years\",\"55 to 59 years\",\"60 to 64 years\",\"65 to 74 years\",\"75 years and over\"])"
   ]
  },
  {
   "cell_type": "markdown",
   "id": "5ed9260b",
   "metadata": {},
   "source": [
    "# Wie viele Ausleihen werden im Mittel pro Altersgruppe und pro Jahr getätigt? Ist die Streuung zwischen den Gruppen gleich?"
   ]
  },
  {
   "cell_type": "markdown",
   "id": "c2bc712c",
   "metadata": {},
   "source": [
    "\"Total Checkouts\" -> ist stetig = immer metrisch skaliert, unendlich viele Ausprägunegn \n",
    "\"Age Range\" -> ist diskret und ein ordinales Merkmal  = Abstände nicht interpretierbar, Ausprägungen können geordnet werden\n",
    "Streuung = Verteilung der Daten\n",
    "\n",
    "Problem: Was heisst pro Jahr , muss einen Zeitraum geben /Serie z.b. Jahr der Anmeldung bis heute (= letzter Nutzungstag)zb 2003-2010. Jeder Nutzer hat aber dann anderen Zeitraum. \n",
    "Alle Nutzer gleicher Zeitraum dann: letzter Eintrag der Nutzung insgesamt - ältester Eintrag der Registrierungen, dann hätten alle Nutzer gleichen zeitraum, aber einige Nutzer waren dann noch nicht da, sind da dann nicht leere verzerrende Werte drin ?!\n",
    "Alternative: letzter Eintrag der Nutzung insgesamt von allen Nutzern zb 3.3.2022 - Eintrag der Registrierung pro Nutzer (= 3.3.2022 - 1.1.2003 oder bei nächstem Nutzer 3.3.2022 - 15.3.2010) => Ein Nutzer ist dann 5 Jahre da, ein Nutzer ist 10 Jahre da. \n",
    "Ein Kind ist 10 Jahre da und leiht insgesamt in den 10 Jahren 50 Bücher aus. Davon viele im ersten und weniger in den Folgejahren.\n",
    "Ein Kind ist 7 ist 3 Jahre da und leiht in 3 Jahren absolut 5 Bücher aus, jedes Jahr eins.  \n",
    "Beide gehören in Altersgruppe 0-9 Jahre. Es muss berücksichigt werden, dass in der Klasse welche sind, die wenig Jahre hatten aber viele ausleihen und die anderen viele Jahre aber wenig ausleihen. Und Kinder die in Jahr x noch garnicht da waren. Dh die höhe der Ausleihen und die Anzahl der Jahre sind doch unterschiedlich? Wie kann man da was errechnen, was sagt das aus?! In einem jahr gibt es den Nutzer nicht in einem andere schon?!  Oder ist das ua.der Grund warum am Ende uch kein Zusammenhang rauskommt? "
   ]
  },
  {
   "cell_type": "markdown",
   "id": "dc0333b6",
   "metadata": {},
   "source": [
    "[AL] Total Checkouts enthält nur ganze Zahlen, ist daher nicht stetig. Stetig sind Variablen, wie z.B. Gewichts- oder Temperaturmessungen, wo nicht nur ganze Zahlen, sondern auch jegliche Zwischenwerte (reelle Zahlen) eingenommen werden können. Das ist aber für die Bearbeitung der Aufgabe nicht weiter relevant. Wichtig ist, dass Du erkannt hast, dass es sich um eine metrische Variable handelt.\n",
    "Zu Deinen Interpretationsfragen.\n",
    "Natürlich ist nicht jeder Nutzer gleich lange in der Bibliothek als Nutzer registriert. Daher ist es für Dich, wenn Du statistische Analysen durchführst wichtig, dass Du am Anfang bestimmte Entscheidungen triffst, um die gestellte Frage anhand der Daten beantworten zu können. Je nachdem welche Frage gestellt wurde und wie diese anhand der Daten interpretiert werden kann, wirst Du dann die weiteren Berechnungen und Interpretationen durchführen. Daher ist dieser Schritt so wichtig. Genauso wichtig ist es, bei den Antworten immer klar zu machen, welche möglichen Einschränkungen der Datensatz an die Berechnung gibt.\n",
    "In diesem Fall finde ich, dass nicht jeder Nutzer gleich lang Kunde in der Bibliothek sein muss. Das \"neueste\" Datum in dem Datensatz ist das neueste Jahr aus der Spalte 'Circulation Active Year', das älteste ist in der Spalte 'Year Patron Registered'. Entweder definiert man pro Kunde seinen einzelnen Nutzungszeitraum (über den entsprechenden Eintrag in Circulation Active Year und Year Patron Registered, wie in der Musterlösung), oder aber man nimmt die absoluten Werte der gesamten Spalte 'Circulation Active Year' und 'Year Patron Registered' für alle Kunden. Oder eben eine Mischung daraus.\n"
   ]
  },
  {
   "cell_type": "code",
   "execution_count": 26,
   "id": "1588fc59",
   "metadata": {},
   "outputs": [],
   "source": [
    "# neue Spalte erzeugen,die Gesamtnutzungszeit des Kunden erechnen aus wann sich Kunde registriert hat und Jahr wo Kunde sich zuletzt eingeloggt hat\n",
    "df['Circulation Active Year'] = pd.to_numeric(df['Circulation Active Year'], errors='coerce')\n",
    "df['Membership Duration Years'] = (df['Circulation Active Year'] - df['Year Patron Registered'])+1\n",
    "df[\"Average Checkouts per Year\"] =(df['Total Checkouts']/df['Membership Duration Years'])"
   ]
  },
  {
   "cell_type": "code",
   "execution_count": 30,
   "id": "54c12d7b",
   "metadata": {},
   "outputs": [
    {
     "data": {
      "text/html": [
       "<div>\n",
       "<style scoped>\n",
       "    .dataframe tbody tr th:only-of-type {\n",
       "        vertical-align: middle;\n",
       "    }\n",
       "\n",
       "    .dataframe tbody tr th {\n",
       "        vertical-align: top;\n",
       "    }\n",
       "\n",
       "    .dataframe thead th {\n",
       "        text-align: right;\n",
       "    }\n",
       "</style>\n",
       "<table border=\"1\" class=\"dataframe\">\n",
       "  <thead>\n",
       "    <tr style=\"text-align: right;\">\n",
       "      <th>Average Checkouts per Year</th>\n",
       "      <th>0.000000</th>\n",
       "      <th>0.071429</th>\n",
       "      <th>0.076923</th>\n",
       "      <th>0.083333</th>\n",
       "      <th>0.090909</th>\n",
       "      <th>0.100000</th>\n",
       "      <th>0.111111</th>\n",
       "      <th>0.125000</th>\n",
       "      <th>0.142857</th>\n",
       "      <th>0.153846</th>\n",
       "      <th>...</th>\n",
       "      <th>1290.285714</th>\n",
       "      <th>1307.000000</th>\n",
       "      <th>1318.363636</th>\n",
       "      <th>1437.750000</th>\n",
       "      <th>1533.083333</th>\n",
       "      <th>1544.142857</th>\n",
       "      <th>1720.928571</th>\n",
       "      <th>1868.000000</th>\n",
       "      <th>2293.000000</th>\n",
       "      <th>2564.785714</th>\n",
       "    </tr>\n",
       "    <tr>\n",
       "      <th>Age Range</th>\n",
       "      <th></th>\n",
       "      <th></th>\n",
       "      <th></th>\n",
       "      <th></th>\n",
       "      <th></th>\n",
       "      <th></th>\n",
       "      <th></th>\n",
       "      <th></th>\n",
       "      <th></th>\n",
       "      <th></th>\n",
       "      <th></th>\n",
       "      <th></th>\n",
       "      <th></th>\n",
       "      <th></th>\n",
       "      <th></th>\n",
       "      <th></th>\n",
       "      <th></th>\n",
       "      <th></th>\n",
       "      <th></th>\n",
       "      <th></th>\n",
       "      <th></th>\n",
       "    </tr>\n",
       "  </thead>\n",
       "  <tbody>\n",
       "    <tr>\n",
       "      <th>0 to 9 years</th>\n",
       "      <td>98</td>\n",
       "      <td>0</td>\n",
       "      <td>0</td>\n",
       "      <td>0</td>\n",
       "      <td>0</td>\n",
       "      <td>0</td>\n",
       "      <td>0</td>\n",
       "      <td>1</td>\n",
       "      <td>3</td>\n",
       "      <td>0</td>\n",
       "      <td>...</td>\n",
       "      <td>0</td>\n",
       "      <td>0</td>\n",
       "      <td>0</td>\n",
       "      <td>0</td>\n",
       "      <td>0</td>\n",
       "      <td>0</td>\n",
       "      <td>0</td>\n",
       "      <td>0</td>\n",
       "      <td>0</td>\n",
       "      <td>0</td>\n",
       "    </tr>\n",
       "    <tr>\n",
       "      <th>10 to 19 years</th>\n",
       "      <td>290</td>\n",
       "      <td>0</td>\n",
       "      <td>0</td>\n",
       "      <td>1</td>\n",
       "      <td>0</td>\n",
       "      <td>3</td>\n",
       "      <td>5</td>\n",
       "      <td>7</td>\n",
       "      <td>24</td>\n",
       "      <td>0</td>\n",
       "      <td>...</td>\n",
       "      <td>0</td>\n",
       "      <td>0</td>\n",
       "      <td>0</td>\n",
       "      <td>0</td>\n",
       "      <td>0</td>\n",
       "      <td>0</td>\n",
       "      <td>0</td>\n",
       "      <td>0</td>\n",
       "      <td>0</td>\n",
       "      <td>0</td>\n",
       "    </tr>\n",
       "    <tr>\n",
       "      <th>20 to 24 years</th>\n",
       "      <td>451</td>\n",
       "      <td>0</td>\n",
       "      <td>1</td>\n",
       "      <td>4</td>\n",
       "      <td>0</td>\n",
       "      <td>2</td>\n",
       "      <td>4</td>\n",
       "      <td>5</td>\n",
       "      <td>11</td>\n",
       "      <td>2</td>\n",
       "      <td>...</td>\n",
       "      <td>0</td>\n",
       "      <td>0</td>\n",
       "      <td>0</td>\n",
       "      <td>0</td>\n",
       "      <td>0</td>\n",
       "      <td>1</td>\n",
       "      <td>0</td>\n",
       "      <td>0</td>\n",
       "      <td>0</td>\n",
       "      <td>0</td>\n",
       "    </tr>\n",
       "    <tr>\n",
       "      <th>25 to 34 years</th>\n",
       "      <td>1727</td>\n",
       "      <td>0</td>\n",
       "      <td>3</td>\n",
       "      <td>0</td>\n",
       "      <td>5</td>\n",
       "      <td>7</td>\n",
       "      <td>20</td>\n",
       "      <td>27</td>\n",
       "      <td>51</td>\n",
       "      <td>8</td>\n",
       "      <td>...</td>\n",
       "      <td>0</td>\n",
       "      <td>0</td>\n",
       "      <td>0</td>\n",
       "      <td>0</td>\n",
       "      <td>0</td>\n",
       "      <td>0</td>\n",
       "      <td>0</td>\n",
       "      <td>1</td>\n",
       "      <td>0</td>\n",
       "      <td>0</td>\n",
       "    </tr>\n",
       "    <tr>\n",
       "      <th>35 to 44 years</th>\n",
       "      <td>1043</td>\n",
       "      <td>2</td>\n",
       "      <td>3</td>\n",
       "      <td>5</td>\n",
       "      <td>6</td>\n",
       "      <td>11</td>\n",
       "      <td>18</td>\n",
       "      <td>20</td>\n",
       "      <td>42</td>\n",
       "      <td>6</td>\n",
       "      <td>...</td>\n",
       "      <td>0</td>\n",
       "      <td>0</td>\n",
       "      <td>0</td>\n",
       "      <td>0</td>\n",
       "      <td>0</td>\n",
       "      <td>0</td>\n",
       "      <td>0</td>\n",
       "      <td>0</td>\n",
       "      <td>0</td>\n",
       "      <td>1</td>\n",
       "    </tr>\n",
       "    <tr>\n",
       "      <th>45 to 54 years</th>\n",
       "      <td>765</td>\n",
       "      <td>3</td>\n",
       "      <td>6</td>\n",
       "      <td>9</td>\n",
       "      <td>9</td>\n",
       "      <td>8</td>\n",
       "      <td>18</td>\n",
       "      <td>33</td>\n",
       "      <td>42</td>\n",
       "      <td>7</td>\n",
       "      <td>...</td>\n",
       "      <td>0</td>\n",
       "      <td>0</td>\n",
       "      <td>0</td>\n",
       "      <td>0</td>\n",
       "      <td>0</td>\n",
       "      <td>0</td>\n",
       "      <td>1</td>\n",
       "      <td>0</td>\n",
       "      <td>0</td>\n",
       "      <td>0</td>\n",
       "    </tr>\n",
       "    <tr>\n",
       "      <th>55 to 59 years</th>\n",
       "      <td>328</td>\n",
       "      <td>1</td>\n",
       "      <td>6</td>\n",
       "      <td>2</td>\n",
       "      <td>5</td>\n",
       "      <td>5</td>\n",
       "      <td>8</td>\n",
       "      <td>15</td>\n",
       "      <td>20</td>\n",
       "      <td>8</td>\n",
       "      <td>...</td>\n",
       "      <td>0</td>\n",
       "      <td>0</td>\n",
       "      <td>0</td>\n",
       "      <td>0</td>\n",
       "      <td>0</td>\n",
       "      <td>0</td>\n",
       "      <td>0</td>\n",
       "      <td>0</td>\n",
       "      <td>0</td>\n",
       "      <td>0</td>\n",
       "    </tr>\n",
       "    <tr>\n",
       "      <th>60 to 64 years</th>\n",
       "      <td>319</td>\n",
       "      <td>3</td>\n",
       "      <td>1</td>\n",
       "      <td>1</td>\n",
       "      <td>6</td>\n",
       "      <td>4</td>\n",
       "      <td>3</td>\n",
       "      <td>11</td>\n",
       "      <td>23</td>\n",
       "      <td>4</td>\n",
       "      <td>...</td>\n",
       "      <td>1</td>\n",
       "      <td>0</td>\n",
       "      <td>0</td>\n",
       "      <td>0</td>\n",
       "      <td>0</td>\n",
       "      <td>0</td>\n",
       "      <td>0</td>\n",
       "      <td>0</td>\n",
       "      <td>0</td>\n",
       "      <td>0</td>\n",
       "    </tr>\n",
       "    <tr>\n",
       "      <th>65 to 74 years</th>\n",
       "      <td>501</td>\n",
       "      <td>0</td>\n",
       "      <td>5</td>\n",
       "      <td>5</td>\n",
       "      <td>9</td>\n",
       "      <td>14</td>\n",
       "      <td>13</td>\n",
       "      <td>15</td>\n",
       "      <td>34</td>\n",
       "      <td>5</td>\n",
       "      <td>...</td>\n",
       "      <td>0</td>\n",
       "      <td>1</td>\n",
       "      <td>1</td>\n",
       "      <td>1</td>\n",
       "      <td>1</td>\n",
       "      <td>0</td>\n",
       "      <td>0</td>\n",
       "      <td>0</td>\n",
       "      <td>1</td>\n",
       "      <td>0</td>\n",
       "    </tr>\n",
       "    <tr>\n",
       "      <th>75 years and over</th>\n",
       "      <td>167</td>\n",
       "      <td>0</td>\n",
       "      <td>2</td>\n",
       "      <td>2</td>\n",
       "      <td>6</td>\n",
       "      <td>3</td>\n",
       "      <td>6</td>\n",
       "      <td>10</td>\n",
       "      <td>8</td>\n",
       "      <td>1</td>\n",
       "      <td>...</td>\n",
       "      <td>0</td>\n",
       "      <td>0</td>\n",
       "      <td>0</td>\n",
       "      <td>0</td>\n",
       "      <td>0</td>\n",
       "      <td>0</td>\n",
       "      <td>0</td>\n",
       "      <td>0</td>\n",
       "      <td>0</td>\n",
       "      <td>0</td>\n",
       "    </tr>\n",
       "  </tbody>\n",
       "</table>\n",
       "<p>10 rows × 13775 columns</p>\n",
       "</div>"
      ],
      "text/plain": [
       "Average Checkouts per Year  0.000000     0.071429     0.076923     \\\n",
       "Age Range                                                           \n",
       "0 to 9 years                         98            0            0   \n",
       "10 to 19 years                      290            0            0   \n",
       "20 to 24 years                      451            0            1   \n",
       "25 to 34 years                     1727            0            3   \n",
       "35 to 44 years                     1043            2            3   \n",
       "45 to 54 years                      765            3            6   \n",
       "55 to 59 years                      328            1            6   \n",
       "60 to 64 years                      319            3            1   \n",
       "65 to 74 years                      501            0            5   \n",
       "75 years and over                   167            0            2   \n",
       "\n",
       "Average Checkouts per Year  0.083333     0.090909     0.100000     \\\n",
       "Age Range                                                           \n",
       "0 to 9 years                          0            0            0   \n",
       "10 to 19 years                        1            0            3   \n",
       "20 to 24 years                        4            0            2   \n",
       "25 to 34 years                        0            5            7   \n",
       "35 to 44 years                        5            6           11   \n",
       "45 to 54 years                        9            9            8   \n",
       "55 to 59 years                        2            5            5   \n",
       "60 to 64 years                        1            6            4   \n",
       "65 to 74 years                        5            9           14   \n",
       "75 years and over                     2            6            3   \n",
       "\n",
       "Average Checkouts per Year  0.111111     0.125000     0.142857     \\\n",
       "Age Range                                                           \n",
       "0 to 9 years                          0            1            3   \n",
       "10 to 19 years                        5            7           24   \n",
       "20 to 24 years                        4            5           11   \n",
       "25 to 34 years                       20           27           51   \n",
       "35 to 44 years                       18           20           42   \n",
       "45 to 54 years                       18           33           42   \n",
       "55 to 59 years                        8           15           20   \n",
       "60 to 64 years                        3           11           23   \n",
       "65 to 74 years                       13           15           34   \n",
       "75 years and over                     6           10            8   \n",
       "\n",
       "Average Checkouts per Year  0.153846     ...  1290.285714  1307.000000  \\\n",
       "Age Range                                ...                             \n",
       "0 to 9 years                          0  ...            0            0   \n",
       "10 to 19 years                        0  ...            0            0   \n",
       "20 to 24 years                        2  ...            0            0   \n",
       "25 to 34 years                        8  ...            0            0   \n",
       "35 to 44 years                        6  ...            0            0   \n",
       "45 to 54 years                        7  ...            0            0   \n",
       "55 to 59 years                        8  ...            0            0   \n",
       "60 to 64 years                        4  ...            1            0   \n",
       "65 to 74 years                        5  ...            0            1   \n",
       "75 years and over                     1  ...            0            0   \n",
       "\n",
       "Average Checkouts per Year  1318.363636  1437.750000  1533.083333  \\\n",
       "Age Range                                                           \n",
       "0 to 9 years                          0            0            0   \n",
       "10 to 19 years                        0            0            0   \n",
       "20 to 24 years                        0            0            0   \n",
       "25 to 34 years                        0            0            0   \n",
       "35 to 44 years                        0            0            0   \n",
       "45 to 54 years                        0            0            0   \n",
       "55 to 59 years                        0            0            0   \n",
       "60 to 64 years                        0            0            0   \n",
       "65 to 74 years                        1            1            1   \n",
       "75 years and over                     0            0            0   \n",
       "\n",
       "Average Checkouts per Year  1544.142857  1720.928571  1868.000000  \\\n",
       "Age Range                                                           \n",
       "0 to 9 years                          0            0            0   \n",
       "10 to 19 years                        0            0            0   \n",
       "20 to 24 years                        1            0            0   \n",
       "25 to 34 years                        0            0            1   \n",
       "35 to 44 years                        0            0            0   \n",
       "45 to 54 years                        0            1            0   \n",
       "55 to 59 years                        0            0            0   \n",
       "60 to 64 years                        0            0            0   \n",
       "65 to 74 years                        0            0            0   \n",
       "75 years and over                     0            0            0   \n",
       "\n",
       "Average Checkouts per Year  2293.000000  2564.785714  \n",
       "Age Range                                             \n",
       "0 to 9 years                          0            0  \n",
       "10 to 19 years                        0            0  \n",
       "20 to 24 years                        0            0  \n",
       "25 to 34 years                        0            0  \n",
       "35 to 44 years                        0            1  \n",
       "45 to 54 years                        0            0  \n",
       "55 to 59 years                        0            0  \n",
       "60 to 64 years                        0            0  \n",
       "65 to 74 years                        1            0  \n",
       "75 years and over                     0            0  \n",
       "\n",
       "[10 rows x 13775 columns]"
      ]
     },
     "execution_count": 30,
     "metadata": {},
     "output_type": "execute_result"
    }
   ],
   "source": [
    "pd.crosstab(\n",
    "    df['Age Range'],\n",
    "    df['Average Checkouts per Year']\n",
    ")"
   ]
  },
  {
   "cell_type": "code",
   "execution_count": 91,
   "id": "b0a4220a",
   "metadata": {},
   "outputs": [
    {
     "data": {
      "image/png": "[encoded data removed]",
      "text/plain": [
       "<Figure size 1152x432 with 1 Axes>"
      ]
     },
     "metadata": {},
     "output_type": "display_data"
    }
   ],
   "source": [
    "import matplotlib.pyplot as plt\n",
    "\n",
    "%matplotlib inline\n",
    "sns.set()\n",
    "plt.figure(figsize=(16, 6))\n",
    "my_order =['0 to 9 years', '10 to 19 years', '20 to 24 years', '25 to 34 years', '35 to 44 years', '45 to 54 years', '55 to 59 years', '60 to 64 years', '65 to 74 years', '75 years and over']\n",
    "\n",
    "plt = sns.boxplot(y='Average Checkouts per Year', x='Age Range', data=df[df['Average Checkouts per Year']<df['Average Checkouts per Year'].quantile(0.95)], fliersize=0.5, whis=1.5, order =my_order)"
   ]
  },
  {
   "cell_type": "markdown",
   "id": "097bb033",
   "metadata": {},
   "source": [
    "[AL] Was sagt Dir die Kreuztabelle? Vielleicht magst Du das am Präsenztag weiter vertiefen?"
   ]
  }
 ],
 "metadata": {
  "kernelspec": {
   "display_name": "Python 3 (ipykernel)",
   "language": "python",
   "name": "python3"
  },
  "language_info": {
   "codemirror_mode": {
    "name": "ipython",
    "version": 3
   },
   "file_extension": ".py",
   "mimetype": "text/x-python",
   "name": "python",
   "nbconvert_exporter": "python",
   "pygments_lexer": "ipython3",
   "version": "3.9.7"
  }
 },
 "nbformat": 4,
 "nbformat_minor": 5
}
