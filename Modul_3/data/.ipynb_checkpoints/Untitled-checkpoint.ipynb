{
 "cells": [
  {
   "cell_type": "markdown",
   "id": "bc9ca394",
   "metadata": {},
   "source": [
    "# Wie viele Senioren und Kinder sind Kunden der SFP Library?"
   ]
  },
  {
   "cell_type": "code",
   "execution_count": 34,
   "id": "6faa32d4",
   "metadata": {},
   "outputs": [
    {
     "data": {
      "text/plain": [
       "25 to 34 years       91083\n",
       "35 to 44 years       67390\n",
       "10 to 19 years       58944\n",
       "45 to 54 years       52492\n",
       "0 to 9 years         38242\n",
       "65 to 74 years       30141\n",
       "20 to 24 years       29761\n",
       "55 to 59 years       21230\n",
       "60 to 64 years       19800\n",
       "75 years and over    14150\n",
       "Name: Age Range, dtype: int64"
      ]
     },
     "execution_count": 34,
     "metadata": {},
     "output_type": "execute_result"
    }
   ],
   "source": [
    "# Age Range -> Problem was zählt alles zu Kinder entweder nur 0-9 oder auch 10-15, die sind aber in der Gruppe 10-19.\n",
    "import pandas as pd\n",
    "df=pd.read_csv(\"../data/Library_Usage.csv\")\n",
    "df['Age Range'].value_counts()\n",
    "# 0 to 9 years         38.242 \n",
    "# 10 to 19 years       58.944\n",
    "# Absolute Häufigkeiten Zusammen : 97.186 Kinder\n",
    "# 65 to 74 years 30.141\n",
    "# 75 years and over 14.150"
   ]
  },
  {
   "cell_type": "code",
   "execution_count": 1,
   "id": "a77e66aa",
   "metadata": {
    "scrolled": true
   },
   "outputs": [
    {
     "data": {
      "text/plain": [
       "38242"
      ]
     },
     "execution_count": 1,
     "metadata": {},
     "output_type": "execute_result"
    }
   ],
   "source": [
    "# Häufigkeiten 0-9 Jahre = 38.242 Kinder\n",
    "import pandas as pd\n",
    "df=pd.read_csv(\"../data/Library_Usage.csv\")\n",
    "(df['Age Range'] == '0 to 9 years').sum()"
   ]
  },
  {
   "cell_type": "code",
   "execution_count": 13,
   "id": "01d4803c",
   "metadata": {
    "scrolled": false
   },
   "outputs": [
    {
     "data": {
      "text/plain": [
       "0      272251\n",
       "1       59208\n",
       "3       41619\n",
       "2       28816\n",
       "4       14931\n",
       "15       1782\n",
       "16       1744\n",
       "9         977\n",
       "5         862\n",
       "10        415\n",
       "100       349\n",
       "55        157\n",
       "12         95\n",
       "103        66\n",
       "101        47\n",
       "104        45\n",
       "102        44\n",
       "8          40\n",
       "Name: Patron Type Code, dtype: int64"
      ]
     },
     "execution_count": 13,
     "metadata": {},
     "output_type": "execute_result"
    }
   ],
   "source": [
    "# Patron Type Code nicht ganz klar was was ist= Infrage kommen wenn nur 0 =Adult, 3 =Senior, 1= juvenile, 2 =young adult\n",
    "# (5= Staff, 15 = Teacher, 100 ATUser Adult, 10= visitor, 55=retired Staff, 101 AT User juvenile, 4=welcome?)\n",
    "import pandas as pd\n",
    "df=pd.read_csv(\"../data/Library_Usage.csv\")\n",
    "df['Patron Type Code'].value_counts()\n",
    "# Relative Häufigkeit für Kundengruppen 3= senior= 41.619 ; 1= 5uvenile = 59.208 ; 2 = young adult = 28.816"
   ]
  },
  {
   "cell_type": "code",
   "execution_count": 15,
   "id": "231bcf37",
   "metadata": {},
   "outputs": [],
   "source": [
    "senioren=df.loc[\n",
    "    (df['Age Range'] == \"65 to 74 years\") | \n",
    "    (df['Age Range'] == \"75 years and over\")\n",
    "] "
   ]
  },
  {
   "cell_type": "code",
   "execution_count": 16,
   "id": "64466b98",
   "metadata": {},
   "outputs": [
    {
     "data": {
      "text/plain": [
       "44291"
      ]
     },
     "execution_count": 16,
     "metadata": {},
     "output_type": "execute_result"
    }
   ],
   "source": [
    "len(senioren)"
   ]
  },
  {
   "cell_type": "code",
   "execution_count": 19,
   "id": "28cbdbc7",
   "metadata": {},
   "outputs": [],
   "source": [
    "# stimmt mit Ergebnis aus Zeile In [14] überein\n",
    "kinder=df.loc[\n",
    "    (df['Age Range'] == \"0 to 9 years\") | \n",
    "    (df['Age Range'] == \"10 to 19 years\")\n",
    "] "
   ]
  },
  {
   "cell_type": "code",
   "execution_count": 20,
   "id": "085b991e",
   "metadata": {},
   "outputs": [
    {
     "data": {
      "text/plain": [
       "97186"
      ]
     },
     "execution_count": 20,
     "metadata": {},
     "output_type": "execute_result"
    }
   ],
   "source": [
    "len(kinder)"
   ]
  },
  {
   "cell_type": "markdown",
   "id": "c6f108dc",
   "metadata": {},
   "source": [
    "# Wie viele Nutzer möchten per Mail informiert werden?"
   ]
  },
  {
   "cell_type": "markdown",
   "id": "ff3c3a4a",
   "metadata": {},
   "source": [
    "# Wie alt sind diese Nutzer durchschnittlich im Vergleich zu Nutzern, die per Post informiert werden möchten?"
   ]
  },
  {
   "cell_type": "markdown",
   "id": "dd15e1b3",
   "metadata": {},
   "source": [
    "\"Notice Preference Definition\" und \"Age Range\" sind beides diskrete Merkmale. \"Age Range\" ist ein ordinales Merkmal  \"Notice Preference Definition\" nominal. \n",
    "\n"
   ]
  },
  {
   "cell_type": "code",
   "execution_count": 41,
   "id": "04027d6d",
   "metadata": {
    "scrolled": true
   },
   "outputs": [
    {
     "data": {
      "text/plain": [
       "25 to 34 years       91083\n",
       "35 to 44 years       67390\n",
       "10 to 19 years       58944\n",
       "45 to 54 years       52492\n",
       "0 to 9 years         38242\n",
       "65 to 74 years       30141\n",
       "20 to 24 years       29761\n",
       "55 to 59 years       21230\n",
       "60 to 64 years       19800\n",
       "75 years and over    14150\n",
       "Name: Age Range, dtype: int64"
      ]
     },
     "execution_count": 41,
     "metadata": {},
     "output_type": "execute_result"
    }
   ],
   "source": [
    "df['Age Range'].value_counts()"
   ]
  },
  {
   "cell_type": "code",
   "execution_count": 38,
   "id": "265409c3",
   "metadata": {},
   "outputs": [
    {
     "data": {
      "text/plain": [
       "email    323937\n",
       "phone     68172\n",
       "print     31336\n",
       "none          3\n",
       "Name: Notice Preference Definition, dtype: int64"
      ]
     },
     "execution_count": 38,
     "metadata": {},
     "output_type": "execute_result"
    }
   ],
   "source": [
    "df['Notice Preference Definition'].value_counts()"
   ]
  },
  {
   "cell_type": "code",
   "execution_count": 36,
   "id": "dbdb061a",
   "metadata": {},
   "outputs": [],
   "source": [
    "Nutzer=df.loc[\n",
    "    (df['Notice Preference Definition'] == \"email\")| \n",
    "    (df['Age Range'] == \"25 to 34 years\")\n",
    "] "
   ]
  },
  {
   "cell_type": "code",
   "execution_count": 37,
   "id": "6a0b54f6",
   "metadata": {},
   "outputs": [
    {
     "data": {
      "text/plain": [
       "335669"
      ]
     },
     "execution_count": 37,
     "metadata": {},
     "output_type": "execute_result"
    }
   ],
   "source": [
    "len(Nutzer)"
   ]
  },
  {
   "cell_type": "code",
   "execution_count": 24,
   "id": "6cce5a65",
   "metadata": {},
   "outputs": [],
   "source": [
    "Nutzer=df.loc[\n",
    "    (df['Notice Preference Definition'] == \"print\")\n",
    "]"
   ]
  },
  {
   "cell_type": "code",
   "execution_count": 25,
   "id": "9278af66",
   "metadata": {},
   "outputs": [
    {
     "data": {
      "text/plain": [
       "31336"
      ]
     },
     "execution_count": 25,
     "metadata": {},
     "output_type": "execute_result"
    }
   ],
   "source": [
    "len(Nutzer)"
   ]
  },
  {
   "cell_type": "code",
   "execution_count": 42,
   "id": "e025eb8a",
   "metadata": {},
   "outputs": [],
   "source": [
    "benachrichtigung=df.loc[\n",
    "    (df['Notice Preference Definition'] == \"email\") | \n",
    "    (df['Notice Preference Definition'] == \"print\")\n",
    "]"
   ]
  }
 ],
 "metadata": {
  "kernelspec": {
   "display_name": "Python 3 (ipykernel)",
   "language": "python",
   "name": "python3"
  },
  "language_info": {
   "codemirror_mode": {
    "name": "ipython",
    "version": 3
   },
   "file_extension": ".py",
   "mimetype": "text/x-python",
   "name": "python",
   "nbconvert_exporter": "python",
   "pygments_lexer": "ipython3",
   "version": "3.9.7"
  }
 },
 "nbformat": 4,
 "nbformat_minor": 5
}
