{
 "cells": [
  {
   "cell_type": "markdown",
   "id": "3d068978",
   "metadata": {},
   "source": [
    "# Text - Klassifikation -\n",
    "Beispiel: Newsgroup Nachrichten autuomatisiert verschlagworten : Wir nutzen Dokumente von mehreren Newsgroups und trainieren damit einen Classifier, der dann eine Zudordnung von neuen Texten auf eine dieser Gruppen durchführen kann. Die Newsgroups stellen die Klassen/Tags dar, mit denen wir neue Texte klassifizieren. Wie nutzen eine einfachen Bag-of-Word-Ansatz, dh wir prüfen welche wörter mit welcher Häufigkeitvorkommen bwz (normalisierte) Häufigkeit. Die Reihenfolge der Wörter im Text spielt dabei aber keine Rolle\n",
    "\n",
    "Aufbau Newsgroup\n",
    "-> 20,000 newsgroup documents,partitioned (nearly) evenly across 20 different newsgroups. \n",
    "-> einige ähneln sich im Thema, aber einige sind auch sehr verschieden\n",
    "-> Eine Newsgroup wird durch einen hierarchisch aufgebauten Namen gekennzeichnet. Durch diese Hierarchien wird das Usenet in Themenblöcke unterteilt. Die meisten Newsgroups werden dabei den neun größten Hierarchien zugeteilt. Diese sind comp.*, talk.*, soc.*, sci.*, humanities.*, misc.*, news.*, rec.* (den sog. Big Eight) und alt.*. Außerdem besitzt sie meist eine Kurzbeschreibung, englisch (und im engeren Sinne technisch) Tagline genannt, die von vielen Newsreadern angezeigt werden kann."
   ]
  },
  {
   "cell_type": "markdown",
   "id": "57eaa237",
   "metadata": {},
   "source": [
    "# Daten importieren"
   ]
  },
  {
   "cell_type": "code",
   "execution_count": 89,
   "id": "14f1bd2f",
   "metadata": {},
   "outputs": [],
   "source": [
    "from sklearn.datasets import fetch_20newsgroups"
   ]
  },
  {
   "cell_type": "code",
   "execution_count": 11,
   "id": "95e7bcc9",
   "metadata": {},
   "outputs": [],
   "source": [
    "# Wir nehmen die folgenden 4 Newsgroups\n",
    "selected_categories = [\"sci.crypt\", \"sci.electronics\", \"sci.med\", \"sci.space\"]"
   ]
  },
  {
   "cell_type": "markdown",
   "id": "39baa055",
   "metadata": {},
   "source": [
    "Versuch mit remove Header und co rauszuholen, schlägt fehlt\n",
    "\n",
    "newsgroup_posts_train = fetch_20newsgroups(\n",
    "    data_home=\"newsgroup_data\",\n",
    "    subset='train',\n",
    "    remove=('headers','footers', 'quotes')\n",
    "    categories=selected_categories,\n",
    "    shuffle=True, random_state=1)\n",
    "newsgroup_posts_test = fetch_20newsgroups(\n",
    "    data_home=\"newsgroup_data\",\n",
    "    subset='test',\n",
    "    remove=('headers','footers', 'quotes')\n",
    "    categories=selected_categories,\n",
    "    shuffle=True, random_state=1)"
   ]
  },
  {
   "cell_type": "code",
   "execution_count": 91,
   "id": "555e0d9b",
   "metadata": {},
   "outputs": [],
   "source": [
    "# Beziehen der Trainingset- und Testsets-Dokumente\n",
    "newsgroup_posts_train = fetch_20newsgroups(\n",
    "    data_home=\"newsgroup_data\",\n",
    "    subset='train',\n",
    "    categories=selected_categories,\n",
    "    shuffle=True, random_state=1)\n",
    "newsgroup_posts_test = fetch_20newsgroups(\n",
    "    data_home=\"newsgroup_data\",\n",
    "    subset='test',\n",
    "    categories=selected_categories,\n",
    "    shuffle=True, random_state=1)"
   ]
  },
  {
   "cell_type": "code",
   "execution_count": 13,
   "id": "ec1c862f",
   "metadata": {},
   "outputs": [
    {
     "data": {
      "text/plain": [
       "sklearn.utils.Bunch"
      ]
     },
     "execution_count": 13,
     "metadata": {},
     "output_type": "execute_result"
    }
   ],
   "source": [
    "# wir erhalten dann scikit learn bunches\n",
    "type(newsgroup_posts_train)"
   ]
  },
  {
   "cell_type": "markdown",
   "id": "d4838da6",
   "metadata": {},
   "source": [
    "# Aussehen der Daten"
   ]
  },
  {
   "cell_type": "code",
   "execution_count": 14,
   "id": "8f2bbc2a",
   "metadata": {},
   "outputs": [
    {
     "data": {
      "text/plain": [
       "['DESCR', 'data', 'filenames', 'target', 'target_names']"
      ]
     },
     "execution_count": 14,
     "metadata": {},
     "output_type": "execute_result"
    }
   ],
   "source": [
    "dir(newsgroup_posts_train)"
   ]
  },
  {
   "cell_type": "code",
   "execution_count": 15,
   "id": "80ebb216",
   "metadata": {
    "scrolled": true
   },
   "outputs": [
    {
     "name": "stdout",
     "output_type": "stream",
     "text": [
      ".. _20newsgroups_dataset:\n",
      "\n",
      "The 20 newsgroups text dataset\n",
      "------------------------------\n",
      "\n",
      "The 20 newsgroups dataset comprises around 18000 newsgroups posts on\n",
      "20 topics split in two subsets: one for training (or development)\n",
      "and the other one for testing (or for performance evaluation). The split\n",
      "between the train and test set is based upon a messages posted before\n",
      "and after a specific date.\n",
      "\n",
      "This module contains two loaders. The first one,\n",
      ":func:`sklearn.datasets.fetch_20newsgroups`,\n",
      "returns a list of the raw texts that can be fed to text feature\n",
      "extractors such as :class:`~sklearn.feature_extraction.text.CountVectorizer`\n",
      "with custom parameters so as to extract feature vectors.\n",
      "The second one, :func:`sklearn.datasets.fetch_20newsgroups_vectorized`,\n",
      "returns ready-to-use features, i.e., it is not necessary to use a feature\n",
      "extractor.\n",
      "\n",
      "**Data Set Characteristics:**\n",
      "\n",
      "    =================   ==========\n",
      "    Classes                     20\n",
      "    Samples total            18846\n",
      "    Dimensionality               1\n",
      "    Features                  text\n",
      "    =================   ==========\n",
      "\n",
      "Usage\n",
      "~~~~~\n",
      "\n",
      "The :func:`sklearn.datasets.fetch_20newsgroups` function is a data\n",
      "fetching / caching functions that downloads the data archive from\n",
      "the original `20 newsgroups website`_, extracts the archive contents\n",
      "in the ``~/scikit_learn_data/20news_home`` folder and calls the\n",
      ":func:`sklearn.datasets.load_files` on either the training or\n",
      "testing set folder, or both of them::\n",
      "\n",
      "  >>> from sklearn.datasets import fetch_20newsgroups\n",
      "  >>> newsgroups_train = fetch_20newsgroups(subset='train')\n",
      "\n",
      "  >>> from pprint import pprint\n",
      "  >>> pprint(list(newsgroups_train.target_names))\n",
      "  ['alt.atheism',\n",
      "   'comp.graphics',\n",
      "   'comp.os.ms-windows.misc',\n",
      "   'comp.sys.ibm.pc.hardware',\n",
      "   'comp.sys.mac.hardware',\n",
      "   'comp.windows.x',\n",
      "   'misc.forsale',\n",
      "   'rec.autos',\n",
      "   'rec.motorcycles',\n",
      "   'rec.sport.baseball',\n",
      "   'rec.sport.hockey',\n",
      "   'sci.crypt',\n",
      "   'sci.electronics',\n",
      "   'sci.med',\n",
      "   'sci.space',\n",
      "   'soc.religion.christian',\n",
      "   'talk.politics.guns',\n",
      "   'talk.politics.mideast',\n",
      "   'talk.politics.misc',\n",
      "   'talk.religion.misc']\n",
      "\n",
      "The real data lies in the ``filenames`` and ``target`` attributes. The target\n",
      "attribute is the integer index of the category::\n",
      "\n",
      "  >>> newsgroups_train.filenames.shape\n",
      "  (11314,)\n",
      "  >>> newsgroups_train.target.shape\n",
      "  (11314,)\n",
      "  >>> newsgroups_train.target[:10]\n",
      "  array([ 7,  4,  4,  1, 14, 16, 13,  3,  2,  4])\n",
      "\n",
      "It is possible to load only a sub-selection of the categories by passing the\n",
      "list of the categories to load to the\n",
      ":func:`sklearn.datasets.fetch_20newsgroups` function::\n",
      "\n",
      "  >>> cats = ['alt.atheism', 'sci.space']\n",
      "  >>> newsgroups_train = fetch_20newsgroups(subset='train', categories=cats)\n",
      "\n",
      "  >>> list(newsgroups_train.target_names)\n",
      "  ['alt.atheism', 'sci.space']\n",
      "  >>> newsgroups_train.filenames.shape\n",
      "  (1073,)\n",
      "  >>> newsgroups_train.target.shape\n",
      "  (1073,)\n",
      "  >>> newsgroups_train.target[:10]\n",
      "  array([0, 1, 1, 1, 0, 1, 1, 0, 0, 0])\n",
      "\n",
      "Converting text to vectors\n",
      "~~~~~~~~~~~~~~~~~~~~~~~~~~\n",
      "\n",
      "In order to feed predictive or clustering models with the text data,\n",
      "one first need to turn the text into vectors of numerical values suitable\n",
      "for statistical analysis. This can be achieved with the utilities of the\n",
      "``sklearn.feature_extraction.text`` as demonstrated in the following\n",
      "example that extract `TF-IDF`_ vectors of unigram tokens\n",
      "from a subset of 20news::\n",
      "\n",
      "  >>> from sklearn.feature_extraction.text import TfidfVectorizer\n",
      "  >>> categories = ['alt.atheism', 'talk.religion.misc',\n",
      "  ...               'comp.graphics', 'sci.space']\n",
      "  >>> newsgroups_train = fetch_20newsgroups(subset='train',\n",
      "  ...                                       categories=categories)\n",
      "  >>> vectorizer = TfidfVectorizer()\n",
      "  >>> vectors = vectorizer.fit_transform(newsgroups_train.data)\n",
      "  >>> vectors.shape\n",
      "  (2034, 34118)\n",
      "\n",
      "The extracted TF-IDF vectors are very sparse, with an average of 159 non-zero\n",
      "components by sample in a more than 30000-dimensional space\n",
      "(less than .5% non-zero features)::\n",
      "\n",
      "  >>> vectors.nnz / float(vectors.shape[0])\n",
      "  159.01327...\n",
      "\n",
      ":func:`sklearn.datasets.fetch_20newsgroups_vectorized` is a function which \n",
      "returns ready-to-use token counts features instead of file names.\n",
      "\n",
      ".. _`20 newsgroups website`: http://people.csail.mit.edu/jrennie/20Newsgroups/\n",
      ".. _`TF-IDF`: https://en.wikipedia.org/wiki/Tf-idf\n",
      "\n",
      "\n",
      "Filtering text for more realistic training\n",
      "~~~~~~~~~~~~~~~~~~~~~~~~~~~~~~~~~~~~~~~~~~\n",
      "\n",
      "It is easy for a classifier to overfit on particular things that appear in the\n",
      "20 Newsgroups data, such as newsgroup headers. Many classifiers achieve very\n",
      "high F-scores, but their results would not generalize to other documents that\n",
      "aren't from this window of time.\n",
      "\n",
      "For example, let's look at the results of a multinomial Naive Bayes classifier,\n",
      "which is fast to train and achieves a decent F-score::\n",
      "\n",
      "  >>> from sklearn.naive_bayes import MultinomialNB\n",
      "  >>> from sklearn import metrics\n",
      "  >>> newsgroups_test = fetch_20newsgroups(subset='test',\n",
      "  ...                                      categories=categories)\n",
      "  >>> vectors_test = vectorizer.transform(newsgroups_test.data)\n",
      "  >>> clf = MultinomialNB(alpha=.01)\n",
      "  >>> clf.fit(vectors, newsgroups_train.target)\n",
      "  MultinomialNB(alpha=0.01, class_prior=None, fit_prior=True)\n",
      "\n",
      "  >>> pred = clf.predict(vectors_test)\n",
      "  >>> metrics.f1_score(newsgroups_test.target, pred, average='macro')\n",
      "  0.88213...\n",
      "\n",
      "(The example :ref:`sphx_glr_auto_examples_text_plot_document_classification_20newsgroups.py` shuffles\n",
      "the training and test data, instead of segmenting by time, and in that case\n",
      "multinomial Naive Bayes gets a much higher F-score of 0.88. Are you suspicious\n",
      "yet of what's going on inside this classifier?)\n",
      "\n",
      "Let's take a look at what the most informative features are:\n",
      "\n",
      "  >>> import numpy as np\n",
      "  >>> def show_top10(classifier, vectorizer, categories):\n",
      "  ...     feature_names = np.asarray(vectorizer.get_feature_names())\n",
      "  ...     for i, category in enumerate(categories):\n",
      "  ...         top10 = np.argsort(classifier.coef_[i])[-10:]\n",
      "  ...         print(\"%s: %s\" % (category, \" \".join(feature_names[top10])))\n",
      "  ...\n",
      "  >>> show_top10(clf, vectorizer, newsgroups_train.target_names)\n",
      "  alt.atheism: edu it and in you that is of to the\n",
      "  comp.graphics: edu in graphics it is for and of to the\n",
      "  sci.space: edu it that is in and space to of the\n",
      "  talk.religion.misc: not it you in is that and to of the\n",
      "\n",
      "\n",
      "You can now see many things that these features have overfit to:\n",
      "\n",
      "- Almost every group is distinguished by whether headers such as\n",
      "  ``NNTP-Posting-Host:`` and ``Distribution:`` appear more or less often.\n",
      "- Another significant feature involves whether the sender is affiliated with\n",
      "  a university, as indicated either by their headers or their signature.\n",
      "- The word \"article\" is a significant feature, based on how often people quote\n",
      "  previous posts like this: \"In article [article ID], [name] <[e-mail address]>\n",
      "  wrote:\"\n",
      "- Other features match the names and e-mail addresses of particular people who\n",
      "  were posting at the time.\n",
      "\n",
      "With such an abundance of clues that distinguish newsgroups, the classifiers\n",
      "barely have to identify topics from text at all, and they all perform at the\n",
      "same high level.\n",
      "\n",
      "For this reason, the functions that load 20 Newsgroups data provide a\n",
      "parameter called **remove**, telling it what kinds of information to strip out\n",
      "of each file. **remove** should be a tuple containing any subset of\n",
      "``('headers', 'footers', 'quotes')``, telling it to remove headers, signature\n",
      "blocks, and quotation blocks respectively.\n",
      "\n",
      "  >>> newsgroups_test = fetch_20newsgroups(subset='test',\n",
      "  ...                                      remove=('headers', 'footers', 'quotes'),\n",
      "  ...                                      categories=categories)\n",
      "  >>> vectors_test = vectorizer.transform(newsgroups_test.data)\n",
      "  >>> pred = clf.predict(vectors_test)\n",
      "  >>> metrics.f1_score(pred, newsgroups_test.target, average='macro')\n",
      "  0.77310...\n",
      "\n",
      "This classifier lost over a lot of its F-score, just because we removed\n",
      "metadata that has little to do with topic classification.\n",
      "It loses even more if we also strip this metadata from the training data:\n",
      "\n",
      "  >>> newsgroups_train = fetch_20newsgroups(subset='train',\n",
      "  ...                                       remove=('headers', 'footers', 'quotes'),\n",
      "  ...                                       categories=categories)\n",
      "  >>> vectors = vectorizer.fit_transform(newsgroups_train.data)\n",
      "  >>> clf = MultinomialNB(alpha=.01)\n",
      "  >>> clf.fit(vectors, newsgroups_train.target)\n",
      "  MultinomialNB(alpha=0.01, class_prior=None, fit_prior=True)\n",
      "\n",
      "  >>> vectors_test = vectorizer.transform(newsgroups_test.data)\n",
      "  >>> pred = clf.predict(vectors_test)\n",
      "  >>> metrics.f1_score(newsgroups_test.target, pred, average='macro')\n",
      "  0.76995...\n",
      "\n",
      "Some other classifiers cope better with this harder version of the task. Try\n",
      "running :ref:`sphx_glr_auto_examples_model_selection_grid_search_text_feature_extraction.py` with and without\n",
      "the ``--filter`` option to compare the results.\n",
      "\n",
      ".. topic:: Recommendation\n",
      "\n",
      "  When evaluating text classifiers on the 20 Newsgroups data, you\n",
      "  should strip newsgroup-related metadata. In scikit-learn, you can do this by\n",
      "  setting ``remove=('headers', 'footers', 'quotes')``. The F-score will be\n",
      "  lower because it is more realistic.\n",
      "\n",
      ".. topic:: Examples\n",
      "\n",
      "   * :ref:`sphx_glr_auto_examples_model_selection_grid_search_text_feature_extraction.py`\n",
      "\n",
      "   * :ref:`sphx_glr_auto_examples_text_plot_document_classification_20newsgroups.py`\n",
      "\n"
     ]
    }
   ],
   "source": [
    "# Beschreibung der Daten über DESCR\n",
    "print(newsgroup_posts_train.DESCR)"
   ]
  },
  {
   "cell_type": "markdown",
   "id": "3fee5bae",
   "metadata": {},
   "source": [
    "# Beispiel Newseintrag"
   ]
  },
  {
   "cell_type": "code",
   "execution_count": 16,
   "id": "56e7ff15",
   "metadata": {
    "scrolled": true
   },
   "outputs": [
    {
     "name": "stdout",
     "output_type": "stream",
     "text": [
      "From: pmetzger@snark.shearson.com (Perry E. Metzger)\n",
      "Subject: Do we need the clipper for cheap security?\n",
      "Organization: Partnership for an America Free Drug\n",
      "Lines: 53\n",
      "\n",
      "amanda@intercon.com (Amanda Walker) writes:\n",
      ">> The answer seems obvious to me, they wouldn't.  There is other hardware \n",
      ">> out there not compromised.  DES as an example (triple DES as a better \n",
      ">> one.) \n",
      ">\n",
      ">So, where can I buy a DES-encrypted cellular phone?  How much does it cost?\n",
      ">Personally, Cylink stuff is out of my budget for personal use :)...\n",
      "\n",
      "If the Clipper chip can do cheap crypto for the masses, obviously one\n",
      "could do the same thing WITHOUT building in back doors.\n",
      "\n",
      "Indeed, even without special engineering, you can construct a good\n",
      "system right now. A standard codec chip, a chip to do vocoding, a DES\n",
      "chip, a V32bis integrated modem module, and a small processor to do\n",
      "glue work, are all you need to have a secure phone. You can dump one\n",
      "or more of the above if you have a fast processor. With integration,\n",
      "you could put all of them onto a single chip -- and in the future they\n",
      "can be.\n",
      "\n",
      "Yes, cheap crypto is good -- but we don't need it from the government.\n",
      "You can do everything the clipper chip can do without needing it to be\n",
      "compromised. When the White House releases stuff saying \"this is good\n",
      "because it gives people privacy\", note that we didn't need them to\n",
      "give us privacy, the capability is available using commercial hardware\n",
      "right now.\n",
      "\n",
      "Indeed, were it not for the government doing everything possible to\n",
      "stop them, Qualcomm would have designed strong encryption right in to\n",
      "the CDMA cellular phone system they are pioneering. Were it not for\n",
      "the NSA and company, cheap encryption systems would be everywhere. As\n",
      "it is, they try every trick in the book to stop it. Had it not been\n",
      "for them, I'm sure cheap secure phones would be out right now.\n",
      "\n",
      "They aren't the ones making cheap crypto available. They are the ones\n",
      "keeping cheap crypto out of people's hands. When they hand you a\n",
      "clipper chip, what you are getting is a mess of pottage -- your prize\n",
      "for having traded in your birthright.\n",
      "\n",
      "And what did we buy with our birthright? Did we get safety from\n",
      "foreigners? No. They can read conference papers as well as anyone else\n",
      "and are using strong cryptography. Did we get safety from professional\n",
      "terrorists? I suspect that they can get cryptosystems themselves on\n",
      "the open market that work just fine -- most of them can't be idiots\n",
      "like the guys that bombed the trade center. Are we getting cheaper\n",
      "crypto for ourselves? No, because the market would have provided that\n",
      "on its own had they not deliberately sabotaged it.\n",
      "\n",
      "Someone please tell me what exactly we get in our social contract in\n",
      "exchange for giving up our right to strong cryptography?\n",
      "--\n",
      "Perry Metzger\t\tpmetzger@shearson.com\n",
      "--\n",
      "Laissez faire, laissez passer. Le monde va de lui meme.\n",
      "\n"
     ]
    }
   ],
   "source": [
    "# Das Attribut data enthält in diesem Fall keine Matrix, sondern die Texte der Nutzer \n",
    "# Beispiel aufrufen\n",
    "print(newsgroup_posts_train.data[6])"
   ]
  },
  {
   "cell_type": "markdown",
   "id": "b8752677",
   "metadata": {},
   "source": [
    "# Newsgruppen Arten anzeigen"
   ]
  },
  {
   "cell_type": "code",
   "execution_count": 17,
   "id": "a951fac6",
   "metadata": {},
   "outputs": [
    {
     "name": "stdout",
     "output_type": "stream",
     "text": [
      "['sci.crypt', 'sci.electronics', 'sci.med', 'sci.space']\n"
     ]
    }
   ],
   "source": [
    "# Die Targets sind die Newsgroup-Namen. \n",
    "#Diese Klassen sind wie üblich für scikit-learn als Zahlen kodiert, die wir mittels target_names auflösen können.\n",
    "print(newsgroup_posts_train.target_names)"
   ]
  },
  {
   "cell_type": "markdown",
   "id": "5a6b1f6d",
   "metadata": {},
   "source": [
    "# Aus welcher Newsgruppe ist das Beispiel"
   ]
  },
  {
   "cell_type": "code",
   "execution_count": 18,
   "id": "d0691a51",
   "metadata": {
    "scrolled": true
   },
   "outputs": [
    {
     "data": {
      "text/plain": [
       "'sci.crypt'"
      ]
     },
     "execution_count": 18,
     "metadata": {},
     "output_type": "execute_result"
    }
   ],
   "source": [
    "# Unser Beispiel von Perry Metzger ist aus sci\n",
    "newsgroup_posts_train.target_names[newsgroup_posts_train.target[6]]"
   ]
  },
  {
   "cell_type": "markdown",
   "id": "064d0644",
   "metadata": {},
   "source": [
    "# Fit Methode um Wörter zu zählen und Stoppworte zu entfernen\n",
    "CountVectorizer-Klasse"
   ]
  },
  {
   "cell_type": "code",
   "execution_count": 19,
   "id": "8a0a9f33",
   "metadata": {},
   "outputs": [
    {
     "data": {
      "text/plain": [
       "CountVectorizer()"
      ]
     },
     "execution_count": 19,
     "metadata": {},
     "output_type": "execute_result"
    }
   ],
   "source": [
    "# Um die Wörter zu zählen, aber auch um Stopwörte zu entfernen und zu Tokenisieren nutzen wir \n",
    "#ein Objekt der CountVectorizer-Klasse bzw. dessen fit-Methode\n",
    "from sklearn.feature_extraction.text import CountVectorizer\n",
    "count_vect = CountVectorizer()\n",
    "count_vect.fit(newsgroup_posts_train.data)"
   ]
  },
  {
   "cell_type": "markdown",
   "id": "1126713e",
   "metadata": {},
   "source": [
    "# Wortanzahl und Positionen im Array (?)"
   ]
  },
  {
   "cell_type": "code",
   "execution_count": 20,
   "id": "7316ef2c",
   "metadata": {
    "scrolled": true
   },
   "outputs": [
    {
     "data": {
      "text/plain": [
       "38683"
      ]
     },
     "execution_count": 20,
     "metadata": {},
     "output_type": "execute_result"
    }
   ],
   "source": [
    "# Über alle Dokumente bekommen wir die folgende Zusammenstellung der Wörter und ihre Indices (positionen im Array):\n",
    "len(count_vect.get_feature_names())"
   ]
  },
  {
   "cell_type": "markdown",
   "id": "9d7590c6",
   "metadata": {},
   "source": [
    "# Wortbeispiele"
   ]
  },
  {
   "cell_type": "code",
   "execution_count": 21,
   "id": "caf3bc3b",
   "metadata": {
    "scrolled": true
   },
   "outputs": [
    {
     "data": {
      "text/plain": [
       "['cellar',\n",
       " 'cellphone',\n",
       " 'cells',\n",
       " 'cellsat',\n",
       " 'cellular',\n",
       " 'cellulars',\n",
       " 'celluloid',\n",
       " 'celp',\n",
       " 'celsius',\n",
       " 'cement',\n",
       " 'cen',\n",
       " 'censoring',\n",
       " 'censorship',\n",
       " 'censure',\n",
       " 'census',\n",
       " 'cent',\n",
       " 'centaur',\n",
       " 'centauri',\n",
       " 'centaurs',\n",
       " 'centennial',\n",
       " 'center',\n",
       " 'centered',\n",
       " 'centerline',\n",
       " 'centerpiece',\n",
       " 'centers',\n",
       " 'centigrade',\n",
       " 'centimeter',\n",
       " 'centimeters',\n",
       " 'central',\n",
       " 'centralia',\n",
       " 'centralised',\n",
       " 'centralism',\n",
       " 'centralization',\n",
       " 'centralize',\n",
       " 'centralized',\n",
       " 'centrally',\n",
       " 'centre',\n",
       " 'centres',\n",
       " 'centrifuge',\n",
       " 'centronic',\n",
       " 'cents',\n",
       " 'centure',\n",
       " 'centuries',\n",
       " 'century',\n",
       " 'ceo',\n",
       " 'cepek',\n",
       " 'cephalopods',\n",
       " 'cept',\n",
       " 'ceramic',\n",
       " 'cereal']"
      ]
     },
     "execution_count": 21,
     "metadata": {},
     "output_type": "execute_result"
    }
   ],
   "source": [
    "# Beispiel daraus\n",
    "count_vect.get_feature_names()[10000:10050]"
   ]
  },
  {
   "cell_type": "markdown",
   "id": "4849185b",
   "metadata": {},
   "source": [
    "# Counting Dictionary (?)"
   ]
  },
  {
   "cell_type": "code",
   "execution_count": null,
   "id": "d5591c8b",
   "metadata": {},
   "outputs": [],
   "source": [
    "oder das counting-Dictionary mit den Wörtern und ihre Vorkommen-Anzahl betrachten (Achtung: groß!).\n",
    "print(count_vect.vocabulary_)"
   ]
  },
  {
   "cell_type": "markdown",
   "id": "b5a2826c",
   "metadata": {},
   "source": [
    "# Matrix erstellen für Klassifikator"
   ]
  },
  {
   "cell_type": "code",
   "execution_count": 101,
   "id": "367cf974",
   "metadata": {},
   "outputs": [],
   "source": [
    "# Diese Countings müssen wir für den Klassifikator in eine Matrix transformieren:\n",
    "X_train_counts = count_vect.transform(newsgroup_posts_train.data)"
   ]
  },
  {
   "cell_type": "markdown",
   "id": "1cbf006c",
   "metadata": {},
   "source": [
    "# Maße der Matrix"
   ]
  },
  {
   "cell_type": "code",
   "execution_count": 100,
   "id": "64f897e0",
   "metadata": {
    "scrolled": true
   },
   "outputs": [
    {
     "data": {
      "text/plain": [
       "(2373, 38683)"
      ]
     },
     "execution_count": 100,
     "metadata": {},
     "output_type": "execute_result"
    }
   ],
   "source": [
    "# Die Matrix, die wir erhalten, hat folgende Maße:\n",
    "X_train_counts.shape"
   ]
  },
  {
   "cell_type": "markdown",
   "id": "a1466a45",
   "metadata": {},
   "source": [
    "# AUFGABE: Klassifikator verbessern mit TFIDF (Vorkommenshäufigkeit in Bezug auf Gesamtmenge der Doks)"
   ]
  },
  {
   "cell_type": "markdown",
   "id": "35472aff",
   "metadata": {},
   "source": [
    "# Normalisierung der Wortanzahl im Text (TFIDF)"
   ]
  },
  {
   "cell_type": "code",
   "execution_count": 92,
   "id": "b188adbe",
   "metadata": {},
   "outputs": [],
   "source": [
    "# Wir normalisieren die Wörtercoutings auf die Anzahl an Wörter im Text (Term Frequency - TF). \n",
    "#Dazu nutzen wir ein Objekt der Klasse TfidfTransformer (schalten die idf-Normalisierung \n",
    "#(Inverse Document Frequency) dabei ab.)\n",
    "from sklearn.feature_extraction.text import TfidfTransformer"
   ]
  },
  {
   "cell_type": "markdown",
   "id": "e5598fb2",
   "metadata": {},
   "source": [
    "# Methode Fit und Transform"
   ]
  },
  {
   "cell_type": "code",
   "execution_count": 93,
   "id": "d8daac79",
   "metadata": {},
   "outputs": [],
   "source": [
    "# Um den Klassifikator zu verbessern, testen wir statt der Term-Frequenz nun die TFIDF (Term Frequency times Inverse Document Frequency) \n",
    "# und erstellen damit unsere Matrizen.\n",
    "tfidf_transformer = TfidfTransformer(use_idf=True).fit(X_train_counts)"
   ]
  },
  {
   "cell_type": "code",
   "execution_count": 94,
   "id": "597a919e",
   "metadata": {},
   "outputs": [],
   "source": [
    "# Die Normalisierung erfolgt mit den Methoden fit und transform.\n",
    "X_train_tfidf = tfidf_transformer.transform(X_train_counts)"
   ]
  },
  {
   "cell_type": "markdown",
   "id": "cfd70588",
   "metadata": {},
   "source": [
    "# Random Forest Kassifkator erstellen"
   ]
  },
  {
   "cell_type": "code",
   "execution_count": 95,
   "id": "b4f20127",
   "metadata": {},
   "outputs": [],
   "source": [
    "# Jetzt können wir einen Klassifikator erstellen. \n",
    "#Wir Nutzen hier eine Random-Forest-Klassifikator, könnten aber auch eine andere Methode wählen.\n",
    "from sklearn.ensemble import RandomForestClassifier\n",
    "tfidf_random_forest_classifier = RandomForestClassifier()"
   ]
  },
  {
   "cell_type": "markdown",
   "id": "bbbc06eb",
   "metadata": {},
   "source": [
    "# Trainingsmatrix mit Klassifkator trainieren"
   ]
  },
  {
   "cell_type": "code",
   "execution_count": 96,
   "id": "eda94024",
   "metadata": {
    "scrolled": true
   },
   "outputs": [
    {
     "data": {
      "text/plain": [
       "RandomForestClassifier()"
      ]
     },
     "execution_count": 96,
     "metadata": {},
     "output_type": "execute_result"
    }
   ],
   "source": [
    "# Wie bei allen Supervised-Learning-Verfahren trainieren wir den Klassikator mit der Trainingsmatrix.\n",
    "tfidf_random_forest_classifier.fit(X_train_tfidf, newsgroup_posts_train.target)"
   ]
  },
  {
   "cell_type": "markdown",
   "id": "1eb38bcb",
   "metadata": {},
   "source": [
    "# Prüfen mit CountVectorizer und TFIDF Transformation durchführen"
   ]
  },
  {
   "cell_type": "markdown",
   "id": "88337b4e",
   "metadata": {},
   "source": [
    "# Um zu testen wie gut der Klassifikator funktioniert, prozessieren wir das Test-Set mit dem CountVectorizer-Objekt \n",
    "#und führen die gleiche TF-Transformation durch.\n",
    "X_test_counts = count_vect.transform(newsgroup_posts_test.data)\n",
    "X_test_tfidf = tfidf_transformer.transform(X_test_counts)"
   ]
  },
  {
   "cell_type": "markdown",
   "id": "fde518d5",
   "metadata": {
    "scrolled": true
   },
   "source": [
    "# Blick auf die Maße der Matrix, zeigt, dass die Anzahl an Spalten (Features) gleich ist wie bei der Trainingsmatrix.\n",
    "# NICHT WIRKLICH!\n",
    "X_test_counts.shape"
   ]
  },
  {
   "cell_type": "markdown",
   "id": "91ec844d",
   "metadata": {},
   "source": [
    "# Score Methode (Qualtätstest des Test-sets)"
   ]
  },
  {
   "cell_type": "code",
   "execution_count": 102,
   "id": "45974acf",
   "metadata": {
    "scrolled": false
   },
   "outputs": [
    {
     "data": {
      "text/plain": [
       "0.8581380620645979"
      ]
     },
     "execution_count": 102,
     "metadata": {},
     "output_type": "execute_result"
    }
   ],
   "source": [
    "# Jetzt können wir mit der score-Methods die Güte des Klassikators auf dem Test-Set prüfen.\n",
    "# Der Klassifikator scheint gut genug zu funktionieren. \n",
    "tfidf_random_forest_classifier.score(X_test_tfidf, newsgroup_posts_test.target)"
   ]
  },
  {
   "cell_type": "markdown",
   "id": "9870696f",
   "metadata": {},
   "source": [
    "TF = 0.857504  TFDIF = 0.848638 VS Musterlösung TFDIF = 0.860037 ohne Count Vector ?? 0.8670044 wieso ständig andere  Werte?! 0.8581380"
   ]
  },
  {
   "cell_type": "markdown",
   "id": "6bd34f88",
   "metadata": {},
   "source": [
    "# Zu Klassifizierende Dokumente wählen"
   ]
  },
  {
   "cell_type": "markdown",
   "id": "890451a2",
   "metadata": {},
   "source": [
    "# Wir können jetzt Listen von Dokumenten klassifizieren. \n",
    "# Wir nehmen zwei Dokumete aus unserem Test-Set und erstellen zusätzlich ein sehr kleines eigenes Dokument, \n",
    "# das nur aus einem Satz besteht. WARUM?\n",
    "docs_to_classify = [\n",
    "    newsgroup_posts_test.data[1],\n",
    "    newsgroup_posts_test.data[7],\n",
    "    \"The sun send a lot of radiation to the planets including earth\"]"
   ]
  },
  {
   "cell_type": "markdown",
   "id": "d63f50b1",
   "metadata": {},
   "source": [
    "# Auch diese neu zu klassifizierenden Dokumente müssen wir wie die Trainingsdokumente in Matrizen transformieren:\n",
    "X_to_classify_counts = count_vect.transform(docs_to_classify)\n",
    "X_to_classify_tfidf = tfidf_transformer.transform(X_to_classify_counts)"
   ]
  },
  {
   "cell_type": "markdown",
   "id": "f225713a",
   "metadata": {},
   "source": [
    "# Predict Methode"
   ]
  },
  {
   "cell_type": "code",
   "execution_count": 98,
   "id": "5ce55def",
   "metadata": {
    "scrolled": true
   },
   "outputs": [],
   "source": [
    "#Jetzt können wir mit dieser Matrix die Klassifikation durchführen …\n",
    "predicted_classes = tfidf_random_forest_classifier.predict(X_to_classify_tfidf)"
   ]
  },
  {
   "cell_type": "code",
   "execution_count": 99,
   "id": "d7b96f5f",
   "metadata": {
    "scrolled": true
   },
   "outputs": [
    {
     "name": "stdout",
     "output_type": "stream",
     "text": [
      "sci.crypt\n",
      "sci.med\n",
      "sci.electronics\n"
     ]
    }
   ],
   "source": [
    "# … und uns die Klassen anschauen, mit denen die Dokumente versehen wurden.\n",
    "for predicted_class in predicted_classes:\n",
    "    print(newsgroup_posts_train.target_names[predicted_class])"
   ]
  },
  {
   "cell_type": "markdown",
   "id": "b56536d5",
   "metadata": {},
   "source": [
    "-> statt electronics wird je nach Score Wert space vergeben worden"
   ]
  }
 ],
 "metadata": {
  "kernelspec": {
   "display_name": "Python 3 (ipykernel)",
   "language": "python",
   "name": "python3"
  },
  "language_info": {
   "codemirror_mode": {
    "name": "ipython",
    "version": 3
   },
   "file_extension": ".py",
   "mimetype": "text/x-python",
   "name": "python",
   "nbconvert_exporter": "python",
   "pygments_lexer": "ipython3",
   "version": "3.9.7"
  }
 },
 "nbformat": 4,
 "nbformat_minor": 5
}
